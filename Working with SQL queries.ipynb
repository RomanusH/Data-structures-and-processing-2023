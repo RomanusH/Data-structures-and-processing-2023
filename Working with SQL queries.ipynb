{
 "cells": [
  {
   "cell_type": "code",
   "execution_count": 2,
   "id": "2d3667be-1430-4c33-a7e9-ce7f26974061",
   "metadata": {
    "tags": []
   },
   "outputs": [],
   "source": [
    "import sqlite3\n",
    "\n",
    "# Create a connection\n",
    "conn = sqlite3.connect('example.db')\n",
    "\n",
    "# Create a cursor\n",
    "c = conn.cursor()\n",
    "\n",
    "# Clean tables if they exist\n",
    "c.execute('''DROP TABLE IF EXISTS students''')\n",
    "\n",
    "# Create students table\n",
    "c.execute('''CREATE TABLE students\n",
    "             (student_id INTEGER PRIMARY KEY,\n",
    "              name TEXT,\n",
    "              age INTEGER,\n",
    "              gender TEXT)''')\n",
    "\n",
    "# Clean tables if they exist\n",
    "c.execute('''DROP TABLE IF EXISTS courses''')\n",
    "\n",
    "# Create courses table\n",
    "c.execute('''CREATE TABLE courses\n",
    "             (course_id INTEGER PRIMARY KEY,\n",
    "              name TEXT,\n",
    "              instructor TEXT)''')\n",
    "\n",
    "# Clean tables if they exist\n",
    "c.execute('''DROP TABLE IF EXISTS enrollments''')\n",
    "\n",
    "# Create enrollments table\n",
    "c.execute('''CREATE TABLE enrollments\n",
    "             (enrollment_id INTEGER PRIMARY KEY,\n",
    "              student_id INTEGER,\n",
    "              course_id INTEGER,\n",
    "              grade TEXT,\n",
    "              FOREIGN KEY(student_id) REFERENCES students(student_id),\n",
    "              FOREIGN KEY(course_id) REFERENCES courses(course_id))''')\n",
    "\n",
    "# Insert data into students table\n",
    "c.execute(\"INSERT INTO students (name, age, gender) VALUES ('John Doe', 20, 'Male')\")\n",
    "c.execute(\"INSERT INTO students (name, age, gender) VALUES ('Jane Smith', 22, 'Female')\")\n",
    "c.execute(\"INSERT INTO students (name, age, gender) VALUES ('Bob Green', 21, 'Male')\")\n",
    "c.execute(\"INSERT INTO students (name, age, gender) VALUES ('Lisa Brown', 19, 'Female')\")\n",
    "c.execute(\"INSERT INTO students (name, age, gender) VALUES ('Tom Lee', 23, 'Male')\")\n",
    "\n",
    "# Insert data into courses table\n",
    "c.execute(\"INSERT INTO courses (name, instructor) VALUES ('English 101', 'Mr. Smith')\")\n",
    "c.execute(\"INSERT INTO courses (name, instructor) VALUES ('Math 101', 'Ms. Johnson')\")\n",
    "c.execute(\"INSERT INTO courses (name, instructor) VALUES ('Science 101', 'Dr. Green')\")\n",
    "c.execute(\"INSERT INTO courses (name, instructor) VALUES ('History 101', 'Ms. Brown')\")\n",
    "\n",
    "# Insert data into enrollments table\n",
    "c.execute(\"INSERT INTO enrollments (student_id, course_id, grade) VALUES (1, 1, 'A')\")\n",
    "c.execute(\"INSERT INTO enrollments (student_id, course_id, grade) VALUES (1, 2, 'B')\")\n",
    "c.execute(\"INSERT INTO enrollments (student_id, course_id, grade) VALUES (1, 3, 'A')\")\n",
    "c.execute(\"INSERT INTO enrollments (student_id, course_id, grade) VALUES (2, 1, 'B')\")\n",
    "c.execute(\"INSERT INTO enrollments (student_id, course_id, grade) VALUES (2, 2, 'A')\")\n",
    "c.execute(\"INSERT INTO enrollments (student_id, course_id, grade) VALUES (2, 4, 'C')\")\n",
    "c.execute(\"INSERT INTO enrollments (student_id, course_id, grade) VALUES (3, 2, 'A')\")\n",
    "c.execute(\"INSERT INTO enrollments (student_id, course_id, grade) VALUES (3, 3, 'A')\")\n",
    "c.execute(\"INSERT INTO enrollments (student_id, course_id, grade) VALUES (4, 1, 'C')\")\n",
    "c.execute(\"INSERT INTO enrollments (student_id, course_id, grade) VALUES (4, 3, 'B')\")\n",
    "c.execute(\"INSERT INTO enrollments (student_id, course_id, grade) VALUES (5, 2, 'A')\")\n",
    "c.execute(\"INSERT INTO enrollments (student_id, course_id, grade) VALUES (5, 4, 'D')\")\n",
    "\n",
    "# Commit the changes\n",
    "conn.commit()\n",
    "\n",
    "# Close the connection\n",
    "conn.close()"
   ]
  },
  {
   "cell_type": "code",
   "execution_count": 3,
   "id": "d1b10946",
   "metadata": {
    "tags": []
   },
   "outputs": [],
   "source": [
    "# The first step is to CONNECT to the database\n",
    "#\n",
    "import sqlite3\n",
    "import pandas as pd\n",
    "\n",
    "# Create a connection\n",
    "conn = sqlite3.connect('example.db')"
   ]
  },
  {
   "cell_type": "code",
   "execution_count": 4,
   "id": "5e5d3bd7",
   "metadata": {
    "tags": []
   },
   "outputs": [
    {
     "data": {
      "text/html": [
       "<div>\n",
       "<style scoped>\n",
       "    .dataframe tbody tr th:only-of-type {\n",
       "        vertical-align: middle;\n",
       "    }\n",
       "\n",
       "    .dataframe tbody tr th {\n",
       "        vertical-align: top;\n",
       "    }\n",
       "\n",
       "    .dataframe thead th {\n",
       "        text-align: right;\n",
       "    }\n",
       "</style>\n",
       "<table border=\"1\" class=\"dataframe\">\n",
       "  <thead>\n",
       "    <tr style=\"text-align: right;\">\n",
       "      <th></th>\n",
       "      <th>name</th>\n",
       "      <th>age</th>\n",
       "    </tr>\n",
       "  </thead>\n",
       "  <tbody>\n",
       "    <tr>\n",
       "      <th>0</th>\n",
       "      <td>Jane Smith</td>\n",
       "      <td>22</td>\n",
       "    </tr>\n",
       "    <tr>\n",
       "      <th>1</th>\n",
       "      <td>Lisa Brown</td>\n",
       "      <td>19</td>\n",
       "    </tr>\n",
       "  </tbody>\n",
       "</table>\n",
       "</div>"
      ],
      "text/plain": [
       "         name  age\n",
       "0  Jane Smith   22\n",
       "1  Lisa Brown   19"
      ]
     },
     "execution_count": 4,
     "metadata": {},
     "output_type": "execute_result"
    }
   ],
   "source": [
    "#1)Write an SQL query to find the names and ages of all female students.\n",
    "pd.read_sql_query('''SELECT name, age \n",
    "FROM students \n",
    "WHERE gender = 'Female';''', conn)"
   ]
  },
  {
   "cell_type": "code",
   "execution_count": 5,
   "id": "d34bc7ec",
   "metadata": {
    "tags": []
   },
   "outputs": [
    {
     "data": {
      "text/html": [
       "<div>\n",
       "<style scoped>\n",
       "    .dataframe tbody tr th:only-of-type {\n",
       "        vertical-align: middle;\n",
       "    }\n",
       "\n",
       "    .dataframe tbody tr th {\n",
       "        vertical-align: top;\n",
       "    }\n",
       "\n",
       "    .dataframe thead th {\n",
       "        text-align: right;\n",
       "    }\n",
       "</style>\n",
       "<table border=\"1\" class=\"dataframe\">\n",
       "  <thead>\n",
       "    <tr style=\"text-align: right;\">\n",
       "      <th></th>\n",
       "      <th>name</th>\n",
       "    </tr>\n",
       "  </thead>\n",
       "  <tbody>\n",
       "    <tr>\n",
       "      <th>0</th>\n",
       "      <td>Math 101</td>\n",
       "    </tr>\n",
       "    <tr>\n",
       "      <th>1</th>\n",
       "      <td>History 101</td>\n",
       "    </tr>\n",
       "  </tbody>\n",
       "</table>\n",
       "</div>"
      ],
      "text/plain": [
       "          name\n",
       "0     Math 101\n",
       "1  History 101"
      ]
     },
     "execution_count": 5,
     "metadata": {},
     "output_type": "execute_result"
    }
   ],
   "source": [
    "#2)Write an SQL query to find the names of all courses taught by female instructors.\n",
    "pd.read_sql_query('''SELECT name \n",
    "FROM courses \n",
    "WHERE instructor \n",
    "LIKE '%Ms.%';''', conn)\n",
    "#As there is no gender column, but mr and ms information, I searched for 'Ms.' containing instructor\n",
    "#names to find courses taught by female instructors."
   ]
  },
  {
   "cell_type": "code",
   "execution_count": 6,
   "id": "db354ad3",
   "metadata": {
    "tags": []
   },
   "outputs": [
    {
     "data": {
      "text/html": [
       "<div>\n",
       "<style scoped>\n",
       "    .dataframe tbody tr th:only-of-type {\n",
       "        vertical-align: middle;\n",
       "    }\n",
       "\n",
       "    .dataframe tbody tr th {\n",
       "        vertical-align: top;\n",
       "    }\n",
       "\n",
       "    .dataframe thead th {\n",
       "        text-align: right;\n",
       "    }\n",
       "</style>\n",
       "<table border=\"1\" class=\"dataframe\">\n",
       "  <thead>\n",
       "    <tr style=\"text-align: right;\">\n",
       "      <th></th>\n",
       "      <th>name</th>\n",
       "      <th>grade</th>\n",
       "    </tr>\n",
       "  </thead>\n",
       "  <tbody>\n",
       "    <tr>\n",
       "      <th>0</th>\n",
       "      <td>Jane Smith</td>\n",
       "      <td>B</td>\n",
       "    </tr>\n",
       "    <tr>\n",
       "      <th>1</th>\n",
       "      <td>Jane Smith</td>\n",
       "      <td>A</td>\n",
       "    </tr>\n",
       "    <tr>\n",
       "      <th>2</th>\n",
       "      <td>Jane Smith</td>\n",
       "      <td>C</td>\n",
       "    </tr>\n",
       "  </tbody>\n",
       "</table>\n",
       "</div>"
      ],
      "text/plain": [
       "         name grade\n",
       "0  Jane Smith     B\n",
       "1  Jane Smith     A\n",
       "2  Jane Smith     C"
      ]
     },
     "execution_count": 6,
     "metadata": {},
     "output_type": "execute_result"
    }
   ],
   "source": [
    "#3)Write an SQL query to find the name and grade of the student with student_id = 2.\n",
    "pd.read_sql_query('''SELECT students.name, enrollments.grade\n",
    "FROM students\n",
    "JOIN enrollments ON students.student_id = enrollments.student_id \n",
    "WHERE students.student_id = '2';\n",
    "''', conn)\n",
    "#JOIN gives us to add another table ongoing process, as we know we cant work with 2 tables without using that\n",
    "\n"
   ]
  },
  {
   "cell_type": "code",
   "execution_count": 7,
   "id": "d17f3ed4",
   "metadata": {
    "tags": []
   },
   "outputs": [
    {
     "data": {
      "text/html": [
       "<div>\n",
       "<style scoped>\n",
       "    .dataframe tbody tr th:only-of-type {\n",
       "        vertical-align: middle;\n",
       "    }\n",
       "\n",
       "    .dataframe tbody tr th {\n",
       "        vertical-align: top;\n",
       "    }\n",
       "\n",
       "    .dataframe thead th {\n",
       "        text-align: right;\n",
       "    }\n",
       "</style>\n",
       "<table border=\"1\" class=\"dataframe\">\n",
       "  <thead>\n",
       "    <tr style=\"text-align: right;\">\n",
       "      <th></th>\n",
       "      <th>AVG(Age)</th>\n",
       "    </tr>\n",
       "  </thead>\n",
       "  <tbody>\n",
       "    <tr>\n",
       "      <th>0</th>\n",
       "      <td>21.333333</td>\n",
       "    </tr>\n",
       "  </tbody>\n",
       "</table>\n",
       "</div>"
      ],
      "text/plain": [
       "    AVG(Age)\n",
       "0  21.333333"
      ]
     },
     "execution_count": 7,
     "metadata": {},
     "output_type": "execute_result"
    }
   ],
   "source": [
    "#4)Write an SQL query to find the average age of male students.\n",
    "pd.read_sql_query('''SELECT AVG(Age) \n",
    "FROM Students \n",
    "WHERE gender = 'Male';''', conn)\n"
   ]
  },
  {
   "cell_type": "code",
   "execution_count": 8,
   "id": "f2a4884b",
   "metadata": {
    "tags": []
   },
   "outputs": [
    {
     "data": {
      "text/html": [
       "<div>\n",
       "<style scoped>\n",
       "    .dataframe tbody tr th:only-of-type {\n",
       "        vertical-align: middle;\n",
       "    }\n",
       "\n",
       "    .dataframe tbody tr th {\n",
       "        vertical-align: top;\n",
       "    }\n",
       "\n",
       "    .dataframe thead th {\n",
       "        text-align: right;\n",
       "    }\n",
       "</style>\n",
       "<table border=\"1\" class=\"dataframe\">\n",
       "  <thead>\n",
       "    <tr style=\"text-align: right;\">\n",
       "      <th></th>\n",
       "      <th>name</th>\n",
       "      <th>age</th>\n",
       "    </tr>\n",
       "  </thead>\n",
       "  <tbody>\n",
       "    <tr>\n",
       "      <th>0</th>\n",
       "      <td>Lisa Brown</td>\n",
       "      <td>19</td>\n",
       "    </tr>\n",
       "    <tr>\n",
       "      <th>1</th>\n",
       "      <td>John Doe</td>\n",
       "      <td>20</td>\n",
       "    </tr>\n",
       "    <tr>\n",
       "      <th>2</th>\n",
       "      <td>Bob Green</td>\n",
       "      <td>21</td>\n",
       "    </tr>\n",
       "  </tbody>\n",
       "</table>\n",
       "</div>"
      ],
      "text/plain": [
       "         name  age\n",
       "0  Lisa Brown   19\n",
       "1    John Doe   20\n",
       "2   Bob Green   21"
      ]
     },
     "execution_count": 8,
     "metadata": {},
     "output_type": "execute_result"
    }
   ],
   "source": [
    "#5)Write an SQL query to find the names and ages of the three youngest students.\n",
    "pd.read_sql_query('''SELECT name, age\n",
    "FROM Students\n",
    "GROUP BY Age\n",
    "HAVING COUNT (*) > 0\n",
    "LIMIT 3''', conn)\n",
    "#First I made age to make a group comparison, Then i displayed table by having count in ascending order,\n",
    "#and Limit 3 to only display three youngest ones"
   ]
  },
  {
   "cell_type": "code",
   "execution_count": 9,
   "id": "62e238de",
   "metadata": {
    "tags": []
   },
   "outputs": [
    {
     "data": {
      "text/html": [
       "<div>\n",
       "<style scoped>\n",
       "    .dataframe tbody tr th:only-of-type {\n",
       "        vertical-align: middle;\n",
       "    }\n",
       "\n",
       "    .dataframe tbody tr th {\n",
       "        vertical-align: top;\n",
       "    }\n",
       "\n",
       "    .dataframe thead th {\n",
       "        text-align: right;\n",
       "    }\n",
       "</style>\n",
       "<table border=\"1\" class=\"dataframe\">\n",
       "  <thead>\n",
       "    <tr style=\"text-align: right;\">\n",
       "      <th></th>\n",
       "      <th>name</th>\n",
       "    </tr>\n",
       "  </thead>\n",
       "  <tbody>\n",
       "    <tr>\n",
       "      <th>0</th>\n",
       "      <td>John Doe</td>\n",
       "    </tr>\n",
       "    <tr>\n",
       "      <th>1</th>\n",
       "      <td>Jane Smith</td>\n",
       "    </tr>\n",
       "  </tbody>\n",
       "</table>\n",
       "</div>"
      ],
      "text/plain": [
       "         name\n",
       "0    John Doe\n",
       "1  Jane Smith"
      ]
     },
     "execution_count": 9,
     "metadata": {},
     "output_type": "execute_result"
    }
   ],
   "source": [
    "#6)Write an SQL query to find the names of students who are enrolled in more than two courses.\n",
    "pd.read_sql_query('''SELECT students.name\n",
    "FROM students\n",
    "JOIN enrollments ON students.student_id = enrollments.student_id\n",
    "GROUP BY students.student_id, students.name\n",
    "HAVING COUNT(enrollments.course_id) > 2\n",
    "''', conn)"
   ]
  },
  {
   "cell_type": "code",
   "execution_count": 10,
   "id": "c5a87b8f",
   "metadata": {
    "tags": []
   },
   "outputs": [
    {
     "data": {
      "text/html": [
       "<div>\n",
       "<style scoped>\n",
       "    .dataframe tbody tr th:only-of-type {\n",
       "        vertical-align: middle;\n",
       "    }\n",
       "\n",
       "    .dataframe tbody tr th {\n",
       "        vertical-align: top;\n",
       "    }\n",
       "\n",
       "    .dataframe thead th {\n",
       "        text-align: right;\n",
       "    }\n",
       "</style>\n",
       "<table border=\"1\" class=\"dataframe\">\n",
       "  <thead>\n",
       "    <tr style=\"text-align: right;\">\n",
       "      <th></th>\n",
       "      <th>name</th>\n",
       "    </tr>\n",
       "  </thead>\n",
       "  <tbody>\n",
       "    <tr>\n",
       "      <th>0</th>\n",
       "      <td>English 101</td>\n",
       "    </tr>\n",
       "    <tr>\n",
       "      <th>1</th>\n",
       "      <td>Math 101</td>\n",
       "    </tr>\n",
       "    <tr>\n",
       "      <th>2</th>\n",
       "      <td>Science 101</td>\n",
       "    </tr>\n",
       "    <tr>\n",
       "      <th>3</th>\n",
       "      <td>History 101</td>\n",
       "    </tr>\n",
       "  </tbody>\n",
       "</table>\n",
       "</div>"
      ],
      "text/plain": [
       "          name\n",
       "0  English 101\n",
       "1     Math 101\n",
       "2  Science 101\n",
       "3  History 101"
      ]
     },
     "execution_count": 10,
     "metadata": {},
     "output_type": "execute_result"
    }
   ],
   "source": [
    "#7) Write an SQL query to find the names of courses and their average grade, sorted in descending order of average grade.\n",
    "pd.read_sql_query('''SELECT courses.name\n",
    "FROM courses \n",
    "JOIN enrollments on courses.course_id = enrollments.course_id\n",
    "GROUP BY courses.course_id, courses.name\n",
    "HAVING COUNT (enrollments.grade) > 0\n",
    "''', conn)"
   ]
  },
  {
   "cell_type": "code",
   "execution_count": 11,
   "id": "9d8a6aa5-5ea5-4f02-8d1a-bc87d7688a4d",
   "metadata": {
    "tags": []
   },
   "outputs": [
    {
     "data": {
      "text/html": [
       "<div>\n",
       "<style scoped>\n",
       "    .dataframe tbody tr th:only-of-type {\n",
       "        vertical-align: middle;\n",
       "    }\n",
       "\n",
       "    .dataframe tbody tr th {\n",
       "        vertical-align: top;\n",
       "    }\n",
       "\n",
       "    .dataframe thead th {\n",
       "        text-align: right;\n",
       "    }\n",
       "</style>\n",
       "<table border=\"1\" class=\"dataframe\">\n",
       "  <thead>\n",
       "    <tr style=\"text-align: right;\">\n",
       "      <th></th>\n",
       "      <th>name</th>\n",
       "      <th>name</th>\n",
       "    </tr>\n",
       "  </thead>\n",
       "  <tbody>\n",
       "    <tr>\n",
       "      <th>0</th>\n",
       "      <td>John Doe</td>\n",
       "      <td>English 101</td>\n",
       "    </tr>\n",
       "    <tr>\n",
       "      <th>1</th>\n",
       "      <td>John Doe</td>\n",
       "      <td>Math 101</td>\n",
       "    </tr>\n",
       "    <tr>\n",
       "      <th>2</th>\n",
       "      <td>John Doe</td>\n",
       "      <td>Science 101</td>\n",
       "    </tr>\n",
       "    <tr>\n",
       "      <th>3</th>\n",
       "      <td>Jane Smith</td>\n",
       "      <td>English 101</td>\n",
       "    </tr>\n",
       "    <tr>\n",
       "      <th>4</th>\n",
       "      <td>Jane Smith</td>\n",
       "      <td>Math 101</td>\n",
       "    </tr>\n",
       "    <tr>\n",
       "      <th>5</th>\n",
       "      <td>Jane Smith</td>\n",
       "      <td>History 101</td>\n",
       "    </tr>\n",
       "    <tr>\n",
       "      <th>6</th>\n",
       "      <td>Bob Green</td>\n",
       "      <td>Math 101</td>\n",
       "    </tr>\n",
       "    <tr>\n",
       "      <th>7</th>\n",
       "      <td>Bob Green</td>\n",
       "      <td>Science 101</td>\n",
       "    </tr>\n",
       "    <tr>\n",
       "      <th>8</th>\n",
       "      <td>Lisa Brown</td>\n",
       "      <td>English 101</td>\n",
       "    </tr>\n",
       "    <tr>\n",
       "      <th>9</th>\n",
       "      <td>Lisa Brown</td>\n",
       "      <td>Science 101</td>\n",
       "    </tr>\n",
       "    <tr>\n",
       "      <th>10</th>\n",
       "      <td>Tom Lee</td>\n",
       "      <td>Math 101</td>\n",
       "    </tr>\n",
       "    <tr>\n",
       "      <th>11</th>\n",
       "      <td>Tom Lee</td>\n",
       "      <td>History 101</td>\n",
       "    </tr>\n",
       "  </tbody>\n",
       "</table>\n",
       "</div>"
      ],
      "text/plain": [
       "          name         name\n",
       "0     John Doe  English 101\n",
       "1     John Doe     Math 101\n",
       "2     John Doe  Science 101\n",
       "3   Jane Smith  English 101\n",
       "4   Jane Smith     Math 101\n",
       "5   Jane Smith  History 101\n",
       "6    Bob Green     Math 101\n",
       "7    Bob Green  Science 101\n",
       "8   Lisa Brown  English 101\n",
       "9   Lisa Brown  Science 101\n",
       "10     Tom Lee     Math 101\n",
       "11     Tom Lee  History 101"
      ]
     },
     "execution_count": 11,
     "metadata": {},
     "output_type": "execute_result"
    }
   ],
   "source": [
    "#8)Write an SQL query to find the names of students and the names of courses they are enrolled in, sorted by student name.\n",
    "pd.read_sql_query('''SELECT students.name, courses.name \n",
    "FROM students \n",
    "JOIN enrollments ON students.student_id = enrollments.student_id \n",
    "JOIN courses ON enrollments.course_id = courses.course_id;\n",
    "''', conn)"
   ]
  },
  {
   "cell_type": "code",
   "execution_count": 12,
   "id": "32861d06-09de-4953-b899-0a139c5d9c4a",
   "metadata": {
    "tags": []
   },
   "outputs": [
    {
     "data": {
      "text/html": [
       "<div>\n",
       "<style scoped>\n",
       "    .dataframe tbody tr th:only-of-type {\n",
       "        vertical-align: middle;\n",
       "    }\n",
       "\n",
       "    .dataframe tbody tr th {\n",
       "        vertical-align: top;\n",
       "    }\n",
       "\n",
       "    .dataframe thead th {\n",
       "        text-align: right;\n",
       "    }\n",
       "</style>\n",
       "<table border=\"1\" class=\"dataframe\">\n",
       "  <thead>\n",
       "    <tr style=\"text-align: right;\">\n",
       "      <th></th>\n",
       "      <th>gender</th>\n",
       "      <th>count</th>\n",
       "    </tr>\n",
       "  </thead>\n",
       "  <tbody>\n",
       "    <tr>\n",
       "      <th>0</th>\n",
       "      <td>Female</td>\n",
       "      <td>2</td>\n",
       "    </tr>\n",
       "    <tr>\n",
       "      <th>1</th>\n",
       "      <td>Male</td>\n",
       "      <td>3</td>\n",
       "    </tr>\n",
       "  </tbody>\n",
       "</table>\n",
       "</div>"
      ],
      "text/plain": [
       "   gender  count\n",
       "0  Female      2\n",
       "1    Male      3"
      ]
     },
     "execution_count": 12,
     "metadata": {},
     "output_type": "execute_result"
    }
   ],
   "source": [
    "#9)Write an SQL query to find the number of male and female students.\n",
    "pd.read_sql_query('''SELECT gender, COUNT(*) AS count \n",
    "FROM students \n",
    "GROUP BY gender;\n",
    "''', conn)"
   ]
  },
  {
   "cell_type": "code",
   "execution_count": 13,
   "id": "55ffb755-a6d5-41db-bdea-b01302664f88",
   "metadata": {
    "tags": []
   },
   "outputs": [
    {
     "data": {
      "text/html": [
       "<div>\n",
       "<style scoped>\n",
       "    .dataframe tbody tr th:only-of-type {\n",
       "        vertical-align: middle;\n",
       "    }\n",
       "\n",
       "    .dataframe tbody tr th {\n",
       "        vertical-align: top;\n",
       "    }\n",
       "\n",
       "    .dataframe thead th {\n",
       "        text-align: right;\n",
       "    }\n",
       "</style>\n",
       "<table border=\"1\" class=\"dataframe\">\n",
       "  <thead>\n",
       "    <tr style=\"text-align: right;\">\n",
       "      <th></th>\n",
       "      <th>name</th>\n",
       "    </tr>\n",
       "  </thead>\n",
       "  <tbody>\n",
       "    <tr>\n",
       "      <th>0</th>\n",
       "      <td>John Doe</td>\n",
       "    </tr>\n",
       "    <tr>\n",
       "      <th>1</th>\n",
       "      <td>Jane Smith</td>\n",
       "    </tr>\n",
       "  </tbody>\n",
       "</table>\n",
       "</div>"
      ],
      "text/plain": [
       "         name\n",
       "0    John Doe\n",
       "1  Jane Smith"
      ]
     },
     "execution_count": 13,
     "metadata": {},
     "output_type": "execute_result"
    }
   ],
   "source": [
    "#10)Write an SQL query to find the names of students who are enrolled in both English 101 and Math 101 courses.\n",
    "pd.read_sql_query('''SELECT students.name\n",
    "FROM students \n",
    "INNER JOIN enrollments ON students.student_id = enrollments.student_id\n",
    "INNER JOIN courses ON enrollments.course_id = courses.course_id\n",
    "WHERE courses.name IN ('English 101', 'Math 101')\n",
    "GROUP BY students.student_id\n",
    "HAVING COUNT(DISTINCT courses.course_id) = 2;\n",
    "\n",
    "''', conn)"
   ]
  }
 ],
 "metadata": {
  "kernelspec": {
   "display_name": "Python 3 (ipykernel)",
   "language": "python",
   "name": "python3"
  },
  "language_info": {
   "codemirror_mode": {
    "name": "ipython",
    "version": 3
   },
   "file_extension": ".py",
   "mimetype": "text/x-python",
   "name": "python",
   "nbconvert_exporter": "python",
   "pygments_lexer": "ipython3",
   "version": "3.11.2"
  }
 },
 "nbformat": 4,
 "nbformat_minor": 5
}
