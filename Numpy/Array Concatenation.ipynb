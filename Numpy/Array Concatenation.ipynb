{
 "cells": [
  {
   "cell_type": "code",
   "execution_count": 7,
   "id": "90c0d62a-3968-469d-8de6-630f472e8c26",
   "metadata": {
    "tags": []
   },
   "outputs": [
    {
     "name": "stdout",
     "output_type": "stream",
     "text": [
      "The first array is: \n",
      " [[2 3 4]\n",
      " [8 3 1]]\n",
      "The second array is: \n",
      " [[2 9 9]\n",
      " [4 8 3]\n",
      " [3 6 6]]\n",
      "The concatenated array is: \n",
      " [[2 3 4]\n",
      " [8 3 1]\n",
      " [2 9 9]\n",
      " [4 8 3]\n",
      " [3 6 6]]\n"
     ]
    }
   ],
   "source": [
    "import numpy as np\n",
    "array1 = np.array([[2,3,4],[8,3,1]])\n",
    "array2 = np.array([[2,9,9],[4,8,3],[3,6,6]])\n",
    "array3 = np.concatenate((array1,array2))\n",
    "print(\"The first array is: \\n\", array1)\n",
    "print(\"The second array is: \\n\", array2)\n",
    "print(\"The concatenated array is: \\n\", array3)"
   ]
  },
  {
   "cell_type": "code",
   "execution_count": null,
   "id": "3bf9b6c0-441b-4417-89eb-59ae07966bf6",
   "metadata": {},
   "outputs": [],
   "source": []
  }
 ],
 "metadata": {
  "kernelspec": {
   "display_name": "Python 3 (ipykernel)",
   "language": "python",
   "name": "python3"
  },
  "language_info": {
   "codemirror_mode": {
    "name": "ipython",
    "version": 3
   },
   "file_extension": ".py",
   "mimetype": "text/x-python",
   "name": "python",
   "nbconvert_exporter": "python",
   "pygments_lexer": "ipython3",
   "version": "3.11.2"
  }
 },
 "nbformat": 4,
 "nbformat_minor": 5
}
