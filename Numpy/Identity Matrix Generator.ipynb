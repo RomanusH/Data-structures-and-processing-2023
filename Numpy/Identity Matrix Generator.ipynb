{
 "cells": [
  {
   "cell_type": "code",
   "execution_count": 9,
   "id": "ad1eba0a-0e27-4ad3-a252-5ed46801972f",
   "metadata": {
    "tags": []
   },
   "outputs": [
    {
     "name": "stdout",
     "output_type": "stream",
     "text": [
      "The 3x3 matrix is: \n",
      " [[5 8 1]\n",
      " [4 8 3]\n",
      " [3 6 6]]\n"
     ]
    }
   ],
   "source": [
    "import numpy as np\n",
    "import random as rd\n",
    "num1 = rd.randint(1,10)\n",
    "num2 = rd.randint(1,10)\n",
    "num3 = rd.randint(1,10)\n",
    "num4 = rd.randint(1,10)\n",
    "num5 = rd.randint(1,10)\n",
    "num6 = rd.randint(1,10)\n",
    "num7 = rd.randint(1,10)\n",
    "num8 = rd.randint(1,10)\n",
    "num9 = rd.randint(1,10)\n",
    "print(\"The 3x3 matrix is: \\n\", np.matrix([[num1, num2, num3],[num4, num5, num6], [num7, num8, num9]]))"
   ]
  },
  {
   "cell_type": "code",
   "execution_count": null,
   "id": "91118196-9e14-4338-87b2-9ea0f223cfd4",
   "metadata": {},
   "outputs": [],
   "source": []
  }
 ],
 "metadata": {
  "kernelspec": {
   "display_name": "Python 3 (ipykernel)",
   "language": "python",
   "name": "python3"
  },
  "language_info": {
   "codemirror_mode": {
    "name": "ipython",
    "version": 3
   },
   "file_extension": ".py",
   "mimetype": "text/x-python",
   "name": "python",
   "nbconvert_exporter": "python",
   "pygments_lexer": "ipython3",
   "version": "3.11.2"
  }
 },
 "nbformat": 4,
 "nbformat_minor": 5
}
