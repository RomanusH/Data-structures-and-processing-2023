{
 "cells": [
  {
   "cell_type": "code",
   "execution_count": 23,
   "id": "a1c067c1-46af-4289-81f7-44e0e8d4d9e2",
   "metadata": {
    "tags": []
   },
   "outputs": [
    {
     "name": "stdout",
     "output_type": "stream",
     "text": [
      "The array is: \n",
      " [[ 0  1  2  3  4]\n",
      " [ 5  6  7  8  9]\n",
      " [10 11 12 13 14]\n",
      " [15 16 17 18 19]\n",
      " [20 21 22 23 24]]\n",
      "The third row is: \n",
      " [10 11 12 13 14]\n",
      "The fourth column is: \n",
      " [ 3  8 13 18 23]\n"
     ]
    }
   ],
   "source": [
    "import numpy as np\n",
    "array = np.arange(25).reshape(5,5)\n",
    "print(\"The array is: \\n\",  array)\n",
    "print(\"The third row is: \\n\", array[2,:])\n",
    "print(\"The fourth column is: \\n\", array[:,3])"
   ]
  }
 ],
 "metadata": {
  "kernelspec": {
   "display_name": "Python 3 (ipykernel)",
   "language": "python",
   "name": "python3"
  },
  "language_info": {
   "codemirror_mode": {
    "name": "ipython",
    "version": 3
   },
   "file_extension": ".py",
   "mimetype": "text/x-python",
   "name": "python",
   "nbconvert_exporter": "python",
   "pygments_lexer": "ipython3",
   "version": "3.11.2"
  }
 },
 "nbformat": 4,
 "nbformat_minor": 5
}
