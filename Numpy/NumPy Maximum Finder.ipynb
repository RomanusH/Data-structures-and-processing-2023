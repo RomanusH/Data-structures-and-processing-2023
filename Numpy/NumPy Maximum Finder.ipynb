{
 "cells": [
  {
   "cell_type": "code",
   "execution_count": 13,
   "id": "04b30b47-5912-4c20-9577-4d335339aee0",
   "metadata": {
    "tags": []
   },
   "outputs": [
    {
     "name": "stdout",
     "output_type": "stream",
     "text": [
      "The array is: \n",
      " [0.3336737  0.48415011 0.48507273 0.39514214 0.38386537 0.53725074\n",
      " 0.55124439 0.6804981  0.81576897 0.31850463 0.20581282 0.24246819\n",
      " 0.82067564 0.06509311 0.9373014  0.71089545 0.80244538 0.64214935\n",
      " 0.02546487 0.18214125 0.20827931 0.28922222 0.10753282 0.30297932\n",
      " 0.41588773 0.74804258 0.62181415 0.79680647 0.1984362  0.64804579\n",
      " 0.60801543 0.38353014 0.12643772 0.92047377 0.40696185 0.75815501\n",
      " 0.50665075 0.99659055 0.45253964 0.3050653  0.14928495 0.8394387\n",
      " 0.354926   0.89280493 0.13900056 0.14771321 0.96209695 0.36179096\n",
      " 0.46006882 0.92659238]\n",
      "And this is the maximum value of array: \n",
      " 0.9965905466052228\n"
     ]
    }
   ],
   "source": [
    "import numpy as np\n",
    "import random as rd\n",
    "a = np.random.random_sample((50,))\n",
    "print(\"The array is: \\n\", a)\n",
    "print(\"And this is the maximum value of array: \\n\", np.amax(a))\n",
    "\n",
    "\n"
   ]
  },
  {
   "cell_type": "code",
   "execution_count": null,
   "id": "2a2ef9c8-bb66-4a3f-b461-7625fc075fa4",
   "metadata": {},
   "outputs": [],
   "source": []
  }
 ],
 "metadata": {
  "kernelspec": {
   "display_name": "Python 3 (ipykernel)",
   "language": "python",
   "name": "python3"
  },
  "language_info": {
   "codemirror_mode": {
    "name": "ipython",
    "version": 3
   },
   "file_extension": ".py",
   "mimetype": "text/x-python",
   "name": "python",
   "nbconvert_exporter": "python",
   "pygments_lexer": "ipython3",
   "version": "3.11.2"
  }
 },
 "nbformat": 4,
 "nbformat_minor": 5
}
