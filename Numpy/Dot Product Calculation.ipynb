{
 "cells": [
  {
   "cell_type": "code",
   "execution_count": 3,
   "id": "09e55849-97ab-4587-93f8-eb01c80e8f5f",
   "metadata": {
    "tags": []
   },
   "outputs": [
    {
     "name": "stdout",
     "output_type": "stream",
     "text": [
      "First array is: \n",
      " [2 6 4 3 9]\n",
      "Second array is: \n",
      " [7 3 5 1 4]\n",
      "The dot product is: \n",
      " 91\n"
     ]
    }
   ],
   "source": [
    "import numpy as np\n",
    "array1 = np.array([2, 6, 4, 3, 9])\n",
    "array2 = np.array([7, 3, 5, 1, 4])\n",
    "print(\"First array is: \\n\", array1)\n",
    "print(\"Second array is: \\n\", array2)\n",
    "print(\"The dot product is: \\n\", np.dot(array1, array2))"
   ]
  },
  {
   "cell_type": "code",
   "execution_count": null,
   "id": "72adac71-4037-42b0-9c7f-e148281b33ea",
   "metadata": {},
   "outputs": [],
   "source": []
  }
 ],
 "metadata": {
  "kernelspec": {
   "display_name": "Python 3 (ipykernel)",
   "language": "python",
   "name": "python3"
  },
  "language_info": {
   "codemirror_mode": {
    "name": "ipython",
    "version": 3
   },
   "file_extension": ".py",
   "mimetype": "text/x-python",
   "name": "python",
   "nbconvert_exporter": "python",
   "pygments_lexer": "ipython3",
   "version": "3.11.2"
  }
 },
 "nbformat": 4,
 "nbformat_minor": 5
}
