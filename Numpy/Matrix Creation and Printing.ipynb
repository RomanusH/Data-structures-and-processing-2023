{
 "cells": [
  {
   "cell_type": "code",
   "execution_count": 3,
   "id": "13c493b2-8af9-466c-bbb9-1c4b3c25a9f9",
   "metadata": {
    "tags": []
   },
   "outputs": [
    {
     "name": "stdout",
     "output_type": "stream",
     "text": [
      "The 3x3 ranging from 1 to 9 is: \n",
      " [[1 2 3]\n",
      " [4 5 6]\n",
      " [7 8 9]]\n"
     ]
    }
   ],
   "source": [
    "import numpy as np\n",
    "array = np.arange(1,10).reshape(3,3)\n",
    "print(\"The 3x3 ranging from 1 to 9 is: \\n\", array)"
   ]
  },
  {
   "cell_type": "code",
   "execution_count": null,
   "id": "7b48a224-8e5c-4460-873c-2b7d13ca07cb",
   "metadata": {},
   "outputs": [],
   "source": []
  }
 ],
 "metadata": {
  "kernelspec": {
   "display_name": "Python 3 (ipykernel)",
   "language": "python",
   "name": "python3"
  },
  "language_info": {
   "codemirror_mode": {
    "name": "ipython",
    "version": 3
   },
   "file_extension": ".py",
   "mimetype": "text/x-python",
   "name": "python",
   "nbconvert_exporter": "python",
   "pygments_lexer": "ipython3",
   "version": "3.11.2"
  }
 },
 "nbformat": 4,
 "nbformat_minor": 5
}
