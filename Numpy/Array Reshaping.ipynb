{
 "cells": [
  {
   "cell_type": "code",
   "execution_count": 11,
   "id": "c01469c6-19d1-48f2-a13b-3862d9262f6c",
   "metadata": {
    "tags": []
   },
   "outputs": [
    {
     "name": "stdout",
     "output_type": "stream",
     "text": [
      "Non-reshaped array is: \n",
      " [ 7 21  7  5 20 24 22 25 19  2]\n",
      "Reshaped 2x5 array is: \n",
      " [[ 7 21  7  5 20]\n",
      " [24 22 25 19  2]]\n"
     ]
    }
   ],
   "source": [
    "import numpy as np\n",
    "array1 = np.array([7 ,21, 7, 5, 20, 24, 22, 25, 19, 2])\n",
    "array2 = np.reshape(array1, (2,5))\n",
    "print(\"Non-reshaped array is: \\n\", array1)\n",
    "print(\"Reshaped 2x5 array is: \\n\", array2)\n",
    "    "
   ]
  },
  {
   "cell_type": "code",
   "execution_count": null,
   "id": "50acb32f-6541-4cc0-9759-3f0c4e64b13d",
   "metadata": {},
   "outputs": [],
   "source": []
  }
 ],
 "metadata": {
  "kernelspec": {
   "display_name": "Python 3 (ipykernel)",
   "language": "python",
   "name": "python3"
  },
  "language_info": {
   "codemirror_mode": {
    "name": "ipython",
    "version": 3
   },
   "file_extension": ".py",
   "mimetype": "text/x-python",
   "name": "python",
   "nbconvert_exporter": "python",
   "pygments_lexer": "ipython3",
   "version": "3.11.2"
  }
 },
 "nbformat": 4,
 "nbformat_minor": 5
}
