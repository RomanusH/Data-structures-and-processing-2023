{
 "cells": [
  {
   "cell_type": "code",
   "execution_count": 12,
   "id": "87cb6c1a-0471-4a91-902c-f284c4f8224f",
   "metadata": {
    "tags": []
   },
   "outputs": [
    {
     "name": "stdout",
     "output_type": "stream",
     "text": [
      "The array is: \n",
      " [189 285   2 138 251  80  64 219 151 204 227 288  63 254 148 150  26  65\n",
      "  88 188  21 219 277 203 111  66 171 147 129 244  28 184 143  24  15  95\n",
      " 151 127  18 186  33 116 277 156  86   7  84  18 219  87 113   4  41 202\n",
      " 246  96 196  16 285   0 249 160 233  61 147 225 180 188 138 239 234 240\n",
      "  37 105  86  18   0 179 271  83 243 146 238 161 175  27 162  27 190 213\n",
      "  12 194 235 151 146 229 257 250  65 213]\n",
      "Mean of the array is: \n",
      " 143.28\n",
      "Standard deviation of array is: \n",
      " 84.9119638213603\n"
     ]
    }
   ],
   "source": [
    "import numpy as np\n",
    "import random as rd\n",
    "a = np.random.randint(low = 0 , high = 300 , size = 100 )\n",
    "print(\"The array is: \\n\", a)\n",
    "print(\"Mean of the array is: \\n\", np.mean(a))\n",
    "print(\"Standard deviation of array is: \\n\", np.std(a))"
   ]
  },
  {
   "cell_type": "code",
   "execution_count": null,
   "id": "1a0efa33-e84b-4e61-a957-908e88f35789",
   "metadata": {},
   "outputs": [],
   "source": []
  }
 ],
 "metadata": {
  "kernelspec": {
   "display_name": "Python 3 (ipykernel)",
   "language": "python",
   "name": "python3"
  },
  "language_info": {
   "codemirror_mode": {
    "name": "ipython",
    "version": 3
   },
   "file_extension": ".py",
   "mimetype": "text/x-python",
   "name": "python",
   "nbconvert_exporter": "python",
   "pygments_lexer": "ipython3",
   "version": "3.11.2"
  }
 },
 "nbformat": 4,
 "nbformat_minor": 5
}
